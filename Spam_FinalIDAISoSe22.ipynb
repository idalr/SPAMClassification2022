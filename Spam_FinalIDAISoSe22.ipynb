{
 "cells": [
  {
   "cell_type": "markdown",
   "metadata": {},
   "source": [
    "## Machine Learning Final Project \n",
    "\n",
    "Student name: **Ruangrin Ldallitsakool**, Project 5: **Spam**\n",
    "\n",
    "### Overview\n",
    "\n",
    "The notebook is divided into the following parts:\n",
    "* Problem Setting\n",
    "* Data exploration and preprocessing\n",
    "* Machine Learning Methods\n",
    "    * Naive Bayes\n",
    "    * Decision Tree and Random Forest\n",
    "* Summary"
   ]
  },
  {
   "cell_type": "markdown",
   "metadata": {},
   "source": [
    "## Problem Setting\n",
    "\n",
    "This problem is a binary text classification problem that can be approached by supervised learning.\n",
    "\n",
    "## Data\n",
    "\n",
    "The dataset contains 57173 features (bag-of-words repesentation). The target is to classify $y \\in {-1,+1}$ where $+1$ stands for spam, and $-1$ stands for not spam (\"legitimate email\").\n",
    "\n",
    "## Problem Evaluation\n",
    "\n",
    "The aim of the filter is to identify a maximum number of spam emails, with a maximum of 0.2% of all legitimate emails being classified incorrectly. As well,  a statement of  what percentage of incoming spam emails will be identified must be addressed. In addition, we are required to plot a precision/recall curve and mark the model's position using the model's threshold.\n",
    "\n",
    "Using $y=1$ as positive (spam), we have that TP (True Positive) being the correct classification of spam, FP (False Positive) being legitimate emails being incorrectly classified as spams.\n",
    "\n",
    "The model evaluation is as following:\n",
    "* Low false positive rate (proportion of non-spam emails that are classified as spam), i.e. FP/(FP+TN) than $0.2$%\n",
    "* High recall (Identifying a maximum number of spam emails), i.e. TP/(TP+FN)\n",
    "* Accuracy maximization"
   ]
  },
  {
   "cell_type": "markdown",
   "metadata": {},
   "source": [
    "### Importing packages"
   ]
  },
  {
   "cell_type": "code",
   "execution_count": 1,
   "metadata": {},
   "outputs": [],
   "source": [
    "import numpy as np\n",
    "import scipy.io\n",
    "import gc \n",
    "import time\n",
    "import random\n",
    "from sklearn.utils import shuffle\n",
    "from sklearn.model_selection import train_test_split\n",
    "from sklearn.naive_bayes import MultinomialNB\n",
    "from sklearn.tree import DecisionTreeClassifier\n",
    "from sklearn.ensemble import RandomForestClassifier\n",
    "import sklearn.metrics as met\n",
    "from sklearn.metrics import PrecisionRecallDisplay, precision_recall_curve\n",
    "import matplotlib.pyplot as plt"
   ]
  },
  {
   "cell_type": "markdown",
   "metadata": {},
   "source": [
    "### Importing Dataset"
   ]
  },
  {
   "cell_type": "code",
   "execution_count": 2,
   "metadata": {},
   "outputs": [],
   "source": [
    "mat = scipy.io.loadmat('emails.mat')\n",
    "X = mat['X'].toarray().T\n",
    "y = mat['Y'].T"
   ]
  },
  {
   "cell_type": "markdown",
   "metadata": {},
   "source": [
    "## Basic data exploration\n",
    "\n",
    "Here we show some basic statistics regarding the data.\n",
    "* All values in $X$ are nonnegative integers\n",
    "* There are no missing values (NaN) in $X$ or $y$\n",
    "* All elements in $y$ are -1 or +1\n",
    "* All words occur at least once (that is, each column's sum is more than 0). Thus, we decide to not drop any columns."
   ]
  },
  {
   "cell_type": "code",
   "execution_count": 3,
   "metadata": {},
   "outputs": [
    {
     "name": "stdout",
     "output_type": "stream",
     "text": [
      "Number of missing values in X: 0 | Y: 0\n",
      "X shape: (10000, 57173), Y shape: (10000, 1)\n",
      "All words occur at least once: True\n",
      "Type of labels: [-1  1]\n",
      "Number of spam: 8030 | Number of non spam: 1970 | spam ratio: 80% spam\n"
     ]
    }
   ],
   "source": [
    "print(f\"Number of missing values in X: {np.isnan(X).sum()} | Y: {np.isnan(y).sum()}\")\n",
    "print(f\"X shape: {X.shape}, Y shape: {y.shape}\")\n",
    "print(f\"All words occur at least once: {np.all(X.sum(axis=0) > 0)}\")\n",
    "print(f\"Type of labels: {np.unique(y)}\")\n",
    "print(f\"Number of spam: {len(y[y==+1])} | Number of non spam: {len(y[y==-1])} | spam ratio: {round(100*len(y[y==+1]) / len(y))}% spam\")"
   ]
  },
  {
   "cell_type": "markdown",
   "metadata": {},
   "source": [
    "## Preprocessing and data split\n",
    "\n",
    "We then split the data into training and testing data. Each dataset has similar spam-to-nonspam proportions, as the following cell.\n",
    "\n",
    "**Important Note:**\n",
    "due to the time and memory limits, I have chosen to train the model on 3000 random entries while I am fully aware that this is not the instructions I received for this project nor a real-life practice."
   ]
  },
  {
   "cell_type": "code",
   "execution_count": 3,
   "metadata": {},
   "outputs": [],
   "source": [
    "# Transform y from [-1,1] to [0,1]\n",
    "y[y == -1] = 0\n",
    "\n",
    "# Shuffle data\n",
    "X,y = shuffle(X,y, random_state=1)\n",
    "\n",
    "# Get Mini Dataset\n",
    "X_mini, y_mini = X[:3000], y[:3000]\n",
    "\n",
    "# Split Mini Dataset\n",
    "X_train, X_test, y_train, y_test = train_test_split(X_mini, y_mini, test_size=0.20, random_state=1)\n",
    "#X_train, X_test, y_train, y_test = train_test_split(X, y, test_size=0.20, random_state=1)"
   ]
  },
  {
   "cell_type": "code",
   "execution_count": 4,
   "metadata": {},
   "outputs": [
    {
     "name": "stdout",
     "output_type": "stream",
     "text": [
      "Propotion of dataset\n",
      "* All Data: Spam 8030 (80%), not spam 1970\n",
      "* Mini Data: Spam 2420 (81%), not spam 580\n",
      "* Train Data: Spam 1951 (81%), not spam 449\n",
      "* Test Data: Spam 469 (78%), not spam 131\n"
     ]
    }
   ],
   "source": [
    "print ('Propotion of dataset')\n",
    "\n",
    "print(f\"* All Data: Spam {len(y[y==+1])} ({round(len(y[y==+1])/len(y)*100)}%), not spam {len(y[y==0])}\")\n",
    "print(f\"* Mini Data: Spam {len(y_mini[y_mini==+1])} ({round(len(y_mini[y_mini==+1])/len(y_mini)*100)}%), not spam {len(y_mini[y_mini==0])}\")\n",
    "print(f\"* Train Data: Spam {len(y_train[y_train==+1])} ({round(len(y_train[y_train==+1])/len(y_train)*100)}%), not spam {len(y_train[y_train==0])}\")\n",
    "print(f\"* Test Data: Spam {len(y_test[y_test==+1])} ({round(len(y_test[y_test==+1])/len(y_test)*100)}%), not spam {len(y_test[y_test==0])}\")"
   ]
  },
  {
   "cell_type": "markdown",
   "metadata": {},
   "source": [
    "## Machine Learning Methods\n",
    "\n",
    "In this project, we try different methods with the focus on the last one:\n",
    "* Naive Bayes (as Baseline)\n",
    "* Decision Tree\n",
    "* Random Forest"
   ]
  },
  {
   "cell_type": "code",
   "execution_count": 5,
   "metadata": {},
   "outputs": [],
   "source": [
    "def get_tp_rate(fn,tn):\n",
    "    \"\"\"\n",
    "    This function calculates the false positive rate\n",
    "    a.k.a the rate of mis-classifying legitinate emails as spam\n",
    "    \n",
    "    Input: int, int\n",
    "    Output: float\n",
    "    \"\"\"\n",
    "    return round(fn/(fn+tn),4)*100\n",
    "\n",
    "def get_recall(tp,fn):\n",
    "    \"\"\"\n",
    "    This function calculates the recall rate\n",
    "    a.k.a the rate of detecting spam as spam\n",
    "    \n",
    "    Input: int, int\n",
    "    Output: float\n",
    "    \"\"\"\n",
    "    return round(tp/(tp+fn),4)*100\n",
    "\n",
    "\n",
    "def train_test_summary(model, X_train, y_train, X_test, y_test, returning = False):\n",
    "    \"\"\"\n",
    "    This function print the results of the given model and datasets: \n",
    "        - Training time (s)\n",
    "        - Test accuracy (%)\n",
    "        - Confusion Matrix (tp: int, fp: int, fn: int, tm:int)\n",
    "        - Rate of misclassification in test data; false positive rate (%) \n",
    "        - whether the model passes the 0.2% misclassification criterion (bool)\n",
    "        \n",
    "    When returning is True, it also return the model with the test accuracy and false positive rate\n",
    "\n",
    "    \n",
    "    input: model, np.array, np.array, np.array, np.array, bool\n",
    "    output (if True): model, float, float\n",
    "    \"\"\"\n",
    "    \n",
    "    # training\n",
    "    start = time.time()\n",
    "    model.fit(X_train, y_train.ravel())\n",
    "    end = round(time.time()-start,4)\n",
    "    \n",
    "    # predict on training and testing sets given\n",
    "    y_test_predict  = model.predict(X_test).ravel()\n",
    "    tn, fp, fn, tp = met.confusion_matrix(y_test.ravel(), y_test_predict).ravel()    \n",
    "    test_acc = round((tp+tn)*100/len(y_test),2)\n",
    "    missclass = get_tp_rate(fn,tn)\n",
    "    recall = get_recall(tp,fn)\n",
    "\n",
    "    # print results\n",
    "    print(f\"{model = }\")\n",
    "    print(f\"Training time: {end}s\")\n",
    "    print(f\"Test Accuracy: {test_acc}%\")\n",
    "    print(f\"Confusion matrix: {tp}, {fp}, {fn}, {tn}\")\n",
    "    print(f\"Miss-classification of legitimate emails: {missclass}%\")\n",
    "    print(f\"% of Spam Detected: {recall}%\")\n",
    "    print(f\"Pass: {missclass<=0.20}\")\n",
    "    \n",
    "    # return results\n",
    "    if returning:\n",
    "        return model, test_acc, missclass\n",
    "    \n",
    "    # delete model to perserve memory if not return\n",
    "    else: del model; gc.collect()"
   ]
  },
  {
   "cell_type": "code",
   "execution_count": 6,
   "metadata": {},
   "outputs": [],
   "source": [
    "def get_random_seed(n):\n",
    "    randomlist = []\n",
    "    for i in range(0,n):\n",
    "        r = random.randint(1,1000)\n",
    "        randomlist.append(r)\n",
    "    return randomlist\n",
    "\n",
    "def multiple_experiments(model, X, y, n):\n",
    "    \"\"\"\n",
    "    This function splits train and test data using n random seeds.\n",
    "    Then, the same model trains on those different splits to check if the model passed the criterion by chance.\n",
    "    It returns the mean and std of the test accuracies and the false positive rates.\n",
    "    \"\"\"\n",
    "    \n",
    "    # get random seeds\n",
    "    seeds = get_random_seed(n)\n",
    "    \n",
    "    test_acc_list = []\n",
    "    missclass_list = []\n",
    "    recall_list = []\n",
    "    \n",
    "    for seed in seeds:\n",
    "        print (f\"Seed no.: {seed}\")\n",
    "        X_train, X_test, y_train, y_test = train_test_split(X, y, test_size=0.20, random_state=seed)\n",
    "        _, test_acc, missclass = train_test_summary(model, X_train, y_train, X_test, y_test, returning = True)\n",
    "        test_acc_list.append(test_acc)\n",
    "        missclass_list.append(missclass)\n",
    "    \n",
    "    print(f\"\\nAverage accuracy: {np.mean(test_acc_list)}, std: {np.std(test_acc_list)}\")\n",
    "    print(f\"Average false positive rate: {np.mean(missclass_list)}, std: {np.std(missclass_list)}\")\n",
    "    print(f\"Average false positive rate: {np.mean(missclass_list)}, std: {np.std(missclass_list)}\")\n",
    "    \n",
    "    print(f\"This model passes the criterion: {np.mean(missclass_list)<=0.2}\")\n",
    "    \n",
    "    return np.mean(test_acc_list), np.std(test_acc_list), np.mean(missclass_list), np.std(missclass_list)"
   ]
  },
  {
   "cell_type": "markdown",
   "metadata": {},
   "source": [
    "### 1.1 NB (Baseline)\n",
    "\n",
    "Naive Bayes is one of the most simplest and fastest algorithms for text classification. It assume that each feature is conditionally independent from one another. For each feature, it calculates the probability of such feature for each class."
   ]
  },
  {
   "cell_type": "code",
   "execution_count": 15,
   "metadata": {},
   "outputs": [
    {
     "name": "stdout",
     "output_type": "stream",
     "text": [
      "model = MultinomialNB()\n",
      "Training time: 0.4189s\n",
      "Test Accuracy: 97.83%\n",
      "Confusion matrix: 471, 0, 13, 116\n",
      "Miss-classification of legitimate emails: 10.08%\n",
      "% of Spam Detected: 97.31%\n",
      "Pass: False\n"
     ]
    }
   ],
   "source": [
    "train_test_summary(MultinomialNB(), X_train, y_train, X_test, y_test)"
   ]
  },
  {
   "cell_type": "markdown",
   "metadata": {},
   "source": [
    "### 1.2 Decision Tree\n",
    "Decision Tree splits data into branches by using greedy strategy to find the best split, until every node purely consists of one class."
   ]
  },
  {
   "cell_type": "code",
   "execution_count": 16,
   "metadata": {},
   "outputs": [
    {
     "name": "stdout",
     "output_type": "stream",
     "text": [
      "model = DecisionTreeClassifier()\n",
      "Training time: 21.2593s\n",
      "Test Accuracy: 98.5%\n",
      "Confusion matrix: 483, 8, 1, 108\n",
      "Miss-classification of legitimate emails: 0.9199999999999999%\n",
      "% of Spam Detected: 99.79%\n",
      "Pass: False\n",
      "model = DecisionTreeClassifier(class_weight={0: 5, 1: 1})\n",
      "Training time: 8.8668s\n",
      "Test Accuracy: 98.83%\n",
      "Confusion matrix: 482, 5, 2, 111\n",
      "Miss-classification of legitimate emails: 1.77%\n",
      "% of Spam Detected: 99.59%\n",
      "Pass: False\n",
      "model = DecisionTreeClassifier(class_weight={0: 1, 1: 5})\n",
      "Training time: 30.9889s\n",
      "Test Accuracy: 98.83%\n",
      "Confusion matrix: 481, 4, 3, 112\n",
      "Miss-classification of legitimate emails: 2.6100000000000003%\n",
      "% of Spam Detected: 99.38%\n",
      "Pass: False\n"
     ]
    }
   ],
   "source": [
    "# Defalt-set Decision Tree\n",
    "train_test_summary(DecisionTreeClassifier(), X_train, y_train, X_test, y_test)\n",
    "\n",
    "# Experiments with 5x penalty toward legitimate emails classification\n",
    "train_test_summary(DecisionTreeClassifier(class_weight={0: 5, 1: 1}), X_train, y_train, X_test, y_test)\n",
    "\n",
    "# Experiments with 5x penalty toward spams classification\n",
    "train_test_summary(DecisionTreeClassifier(class_weight={0: 1, 1: 5}), X_train, y_train, X_test, y_test)"
   ]
  },
  {
   "cell_type": "markdown",
   "metadata": {},
   "source": [
    "### Random Forest\n",
    "Random Forest is the emsemble of decision trees, contructing different trees from sample repetitions"
   ]
  },
  {
   "cell_type": "code",
   "execution_count": 7,
   "metadata": {},
   "outputs": [
    {
     "name": "stdout",
     "output_type": "stream",
     "text": [
      "model = RandomForestClassifier()\n",
      "Training time: 14.8179s\n",
      "Test Accuracy: 99.5%\n",
      "Confusion matrix: 469, 3, 0, 128\n",
      "Miss-classification of legitimate emails: 0.0%\n",
      "% of Spam Detected: 100.0%\n",
      "Pass: True\n"
     ]
    }
   ],
   "source": [
    "rf,_,_ = train_test_summary(RandomForestClassifier(), X_train, y_train, X_test, y_test, returning=True)"
   ]
  },
  {
   "cell_type": "code",
   "execution_count": 8,
   "metadata": {
    "scrolled": true
   },
   "outputs": [
    {
     "name": "stdout",
     "output_type": "stream",
     "text": [
      "Seed no.: 653\n",
      "model = RandomForestClassifier()\n",
      "Training time: 13.228s\n",
      "Test Accuracy: 99.17%\n",
      "Confusion matrix: 488, 5, 0, 107\n",
      "Miss-classification of legitimate emails: 0.0%\n",
      "% of Spam Detected: 100.0%\n",
      "Pass: True\n",
      "Seed no.: 766\n",
      "model = RandomForestClassifier()\n",
      "Training time: 13.5778s\n",
      "Test Accuracy: 98.83%\n",
      "Confusion matrix: 479, 7, 0, 114\n",
      "Miss-classification of legitimate emails: 0.0%\n",
      "% of Spam Detected: 100.0%\n",
      "Pass: True\n",
      "Seed no.: 528\n",
      "model = RandomForestClassifier()\n",
      "Training time: 12.5967s\n",
      "Test Accuracy: 99.0%\n",
      "Confusion matrix: 481, 6, 0, 113\n",
      "Miss-classification of legitimate emails: 0.0%\n",
      "% of Spam Detected: 100.0%\n",
      "Pass: True\n",
      "Seed no.: 811\n",
      "model = RandomForestClassifier()\n",
      "Training time: 12.9895s\n",
      "Test Accuracy: 99.67%\n",
      "Confusion matrix: 491, 2, 0, 107\n",
      "Miss-classification of legitimate emails: 0.0%\n",
      "% of Spam Detected: 100.0%\n",
      "Pass: True\n",
      "Seed no.: 136\n",
      "model = RandomForestClassifier()\n",
      "Training time: 12.5385s\n",
      "Test Accuracy: 99.67%\n",
      "Confusion matrix: 485, 1, 1, 113\n",
      "Miss-classification of legitimate emails: 0.88%\n",
      "% of Spam Detected: 99.79%\n",
      "Pass: False\n",
      "Seed no.: 660\n",
      "model = RandomForestClassifier()\n",
      "Training time: 13.0914s\n",
      "Test Accuracy: 99.33%\n",
      "Confusion matrix: 471, 4, 0, 125\n",
      "Miss-classification of legitimate emails: 0.0%\n",
      "% of Spam Detected: 100.0%\n",
      "Pass: True\n",
      "Seed no.: 440\n",
      "model = RandomForestClassifier()\n",
      "Training time: 13.4444s\n",
      "Test Accuracy: 99.33%\n",
      "Confusion matrix: 494, 4, 0, 102\n",
      "Miss-classification of legitimate emails: 0.0%\n",
      "% of Spam Detected: 100.0%\n",
      "Pass: True\n",
      "Seed no.: 780\n",
      "model = RandomForestClassifier()\n",
      "Training time: 13.0491s\n",
      "Test Accuracy: 99.83%\n",
      "Confusion matrix: 491, 1, 0, 108\n",
      "Miss-classification of legitimate emails: 0.0%\n",
      "% of Spam Detected: 100.0%\n",
      "Pass: True\n",
      "Seed no.: 67\n",
      "model = RandomForestClassifier()\n",
      "Training time: 12.809s\n",
      "Test Accuracy: 99.5%\n",
      "Confusion matrix: 483, 3, 0, 114\n",
      "Miss-classification of legitimate emails: 0.0%\n",
      "% of Spam Detected: 100.0%\n",
      "Pass: True\n",
      "Seed no.: 764\n",
      "model = RandomForestClassifier()\n",
      "Training time: 12.3757s\n",
      "Test Accuracy: 98.83%\n",
      "Confusion matrix: 480, 6, 1, 113\n",
      "Miss-classification of legitimate emails: 0.88%\n",
      "% of Spam Detected: 99.79%\n",
      "Pass: False\n",
      "\n",
      "Average accuracy: 99.316, std: 0.33802958450407905\n",
      "Average false positive rate: 0.176, std: 0.352\n",
      "This model passes the criterion: True\n"
     ]
    }
   ],
   "source": [
    "# Train models on 10 different data-splits to make sure that the result above is not just a 'lucky' seed\n",
    "mean_acc, std_acc, mean_missclass, std_missclass = multiple_experiments(rf, X_mini, y_mini, 10)"
   ]
  },
  {
   "cell_type": "code",
   "execution_count": 10,
   "metadata": {},
   "outputs": [
    {
     "name": "stdout",
     "output_type": "stream",
     "text": [
      "Test Accuracy: 99.07%\n",
      "Confusion matrix: 1336, 54, 11, 5599\n",
      "Miss-classification of legitimate emails: 0.2%\n",
      "Pass: True\n"
     ]
    }
   ],
   "source": [
    "# Test on the whole dataset\n",
    "\n",
    "y_test_predict = rf.predict(X[3000:])\n",
    "tp, fp, fn, tn = met.confusion_matrix(y[3000:], y_test_predict).ravel()    \n",
    "test_acc = round((tp+tn)*100/len(y_test_predict),2)\n",
    "missclass = get_tp_rate(fn,tn)\n",
    "\n",
    "print(f\"Test Accuracy: {test_acc}%\")\n",
    "print(f\"Confusion matrix: {tp}, {fp}, {fn}, {tn}\")\n",
    "print(f\"Miss-classification of legitimate emails: {missclass}%\")\n",
    "print(f\"Pass: {missclass<=0.20}\")"
   ]
  },
  {
   "cell_type": "markdown",
   "metadata": {},
   "source": [
    "#### RF Hyperparameter Exploring: No. of Trees"
   ]
  },
  {
   "cell_type": "code",
   "execution_count": 12,
   "metadata": {},
   "outputs": [
    {
     "data": {
      "text/plain": [
       "<matplotlib.lines.Line2D at 0x2195035b790>"
      ]
     },
     "execution_count": 12,
     "metadata": {},
     "output_type": "execute_result"
    },
    {
     "data": {
      "image/png": "[encoded data removed]",
      "text/plain": [
       "<Figure size 432x288 with 1 Axes>"
      ]
     },
     "metadata": {
      "needs_background": "light"
     },
     "output_type": "display_data"
    },
    {
     "data": {
      "image/png": "[encoded data removed]",
      "text/plain": [
       "<Figure size 432x288 with 1 Axes>"
      ]
     },
     "metadata": {
      "needs_background": "light"
     },
     "output_type": "display_data"
    },
    {
     "data": {
      "image/png": "[encoded data removed]",
      "text/plain": [
       "<Figure size 432x288 with 1 Axes>"
      ]
     },
     "metadata": {
      "needs_background": "light"
     },
     "output_type": "display_data"
    }
   ],
   "source": [
    "X_val,y_val = X_test,y_test.ravel()\n",
    "\n",
    "params = [x for x in range(20,110)]\n",
    "\n",
    "fitted_models = [RandomForestClassifier(n_estimators=int(x), random_state=1,).\\\n",
    "                 fit(X_train, y_train.ravel()) for x in params]\n",
    "\n",
    "train_scores = np.array([model.score(X_train,y_train) for model in fitted_models])\n",
    "test_scores = np.array([model.score(X_val,y_val) for model in fitted_models])\n",
    "\n",
    "missclassifications = []\n",
    "recalls = []\n",
    "\n",
    "for model in fitted_models:\n",
    "    tn, fp, fn, tp = met.confusion_matrix(y_val.ravel(), model.predict(X_val)).ravel()\n",
    "    missclass = get_tp_rate(fn,tn)\n",
    "    recall = get_recall(tp,fn)\n",
    "    missclassifications.append(missclass)\n",
    "    recalls.append(recall)\n",
    "    \n",
    "# Plotting Accuracy\n",
    "fig, ax = plt.subplots()\n",
    "ax.plot(params, train_scores, color=\"b\", label=\"train_acc\")\n",
    "ax.plot(params, test_scores, color=\"orange\", label=\"validation_acc\")\n",
    "ax.legend()\n",
    "\n",
    "# Ploting Recall\n",
    "fig, ax = plt.subplots()\n",
    "ax.plot(params, recalls, label=\"recall\")\n",
    "    \n",
    "# Ploting False Positive Rate\n",
    "fig, ax = plt.subplots()\n",
    "ax.plot(params, missclassifications, label=\"test_missclass\")\n",
    "plt.axhline(y=0.002, color='r', linestyle='-')"
   ]
  },
  {
   "cell_type": "markdown",
   "metadata": {},
   "source": [
    "#### RF Hyperparameter Exploring: Maximum Tree Depth"
   ]
  },
  {
   "cell_type": "code",
   "execution_count": 14,
   "metadata": {},
   "outputs": [
    {
     "data": {
      "text/plain": [
       "<matplotlib.legend.Legend at 0x21976107250>"
      ]
     },
     "execution_count": 14,
     "metadata": {},
     "output_type": "execute_result"
    },
    {
     "data": {
      "image/png": "[encoded data removed]",
      "text/plain": [
       "<Figure size 432x288 with 1 Axes>"
      ]
     },
     "metadata": {
      "needs_background": "light"
     },
     "output_type": "display_data"
    },
    {
     "data": {
      "image/png": "[encoded data removed]",
      "text/plain": [
       "<Figure size 432x288 with 1 Axes>"
      ]
     },
     "metadata": {
      "needs_background": "light"
     },
     "output_type": "display_data"
    },
    {
     "data": {
      "image/png": "[encoded data removed]",
      "text/plain": [
       "<Figure size 432x288 with 1 Axes>"
      ]
     },
     "metadata": {
      "needs_background": "light"
     },
     "output_type": "display_data"
    }
   ],
   "source": [
    "X_val,y_val = X_test,y_test.ravel()\n",
    "\n",
    "params = [round(x) for x in np.linspace(start = 2, stop = 200, num = 40)]\n",
    "\n",
    "fitted_models = [RandomForestClassifier(max_depth=int(x), random_state=1).\\\n",
    "                 fit(X_train, y_train.ravel()) for x in params]\n",
    "\n",
    "train_scores = np.array([model.score(X_train,y_train) for model in fitted_models])\n",
    "test_scores = np.array([model.score(X_val,y_val) for model in fitted_models])\n",
    "\n",
    "missclassifications = []\n",
    "recalls = []\n",
    "\n",
    "for model in fitted_models:\n",
    "    tn, fp, fn, tp = met.confusion_matrix(y_val.ravel(), model.predict(X_val)).ravel()\n",
    "    missclass = get_tp_rate(fn,tn)\n",
    "    recall = get_recall(tp,fn)\n",
    "    missclassifications.append(missclass)\n",
    "    recalls.append(recall)\n",
    "    \n",
    "# Plotting Accuracy\n",
    "fig, ax = plt.subplots()\n",
    "ax.plot(params, train_scores, color=\"b\", label=\"train_acc\")\n",
    "ax.plot(params, test_scores, color=\"orange\", label=\"validation_acc\")\n",
    "ax.legend()\n",
    "\n",
    "# Ploting Recall\n",
    "fig, ax = plt.subplots()\n",
    "ax.plot(params, recalls, label=\"recall\")\n",
    "ax.legend()\n",
    "    \n",
    "# Ploting False Positive Rate\n",
    "fig, ax = plt.subplots()\n",
    "ax.plot(params, missclassifications, label=\"test_missclass\")\n",
    "plt.axhline(y=0.002, color='r', linestyle='-')\n",
    "ax.legend()"
   ]
  },
  {
   "cell_type": "markdown",
   "metadata": {},
   "source": [
    "### Adjusting the no. of trees and tree depth, according to the results above"
   ]
  },
  {
   "cell_type": "code",
   "execution_count": 15,
   "metadata": {},
   "outputs": [
    {
     "name": "stdout",
     "output_type": "stream",
     "text": [
      "model = RandomForestClassifier(max_depth=50, n_estimators=80)\n",
      "Training time: 10.6196s\n",
      "Test Accuracy: 99.17%\n",
      "Confusion matrix: 469, 5, 0, 126\n",
      "Miss-classification of legitimate emails: 0.0%\n",
      "% of Spam Detected: 100.0%\n",
      "Pass: True\n"
     ]
    }
   ],
   "source": [
    "rf_adjusted,_,_ = train_test_summary(RandomForestClassifier(n_estimators = 80 , max_depth=50), X_train, y_train, X_test, y_test, returning=True)"
   ]
  },
  {
   "cell_type": "code",
   "execution_count": 16,
   "metadata": {
    "scrolled": true
   },
   "outputs": [
    {
     "name": "stdout",
     "output_type": "stream",
     "text": [
      "Seed no.: 924\n",
      "model = RandomForestClassifier(max_depth=50, n_estimators=80)\n",
      "Training time: 10.4635s\n",
      "Test Accuracy: 99.67%\n",
      "Confusion matrix: 509, 2, 0, 89\n",
      "Miss-classification of legitimate emails: 0.0%\n",
      "% of Spam Detected: 100.0%\n",
      "Pass: True\n",
      "Seed no.: 143\n",
      "model = RandomForestClassifier(max_depth=50, n_estimators=80)\n",
      "Training time: 11.3078s\n",
      "Test Accuracy: 98.83%\n",
      "Confusion matrix: 473, 7, 0, 120\n",
      "Miss-classification of legitimate emails: 0.0%\n",
      "% of Spam Detected: 100.0%\n",
      "Pass: True\n",
      "Seed no.: 107\n",
      "model = RandomForestClassifier(max_depth=50, n_estimators=80)\n",
      "Training time: 10.5514s\n",
      "Test Accuracy: 99.5%\n",
      "Confusion matrix: 482, 2, 1, 115\n",
      "Miss-classification of legitimate emails: 0.86%\n",
      "% of Spam Detected: 99.79%\n",
      "Pass: False\n",
      "Seed no.: 983\n",
      "model = RandomForestClassifier(max_depth=50, n_estimators=80)\n",
      "Training time: 10.7345s\n",
      "Test Accuracy: 99.83%\n",
      "Confusion matrix: 493, 0, 1, 106\n",
      "Miss-classification of legitimate emails: 0.9299999999999999%\n",
      "% of Spam Detected: 99.8%\n",
      "Pass: False\n",
      "Seed no.: 368\n",
      "model = RandomForestClassifier(max_depth=50, n_estimators=80)\n",
      "Training time: 10.2921s\n",
      "Test Accuracy: 99.5%\n",
      "Confusion matrix: 476, 3, 0, 121\n",
      "Miss-classification of legitimate emails: 0.0%\n",
      "% of Spam Detected: 100.0%\n",
      "Pass: True\n",
      "Seed no.: 731\n",
      "model = RandomForestClassifier(max_depth=50, n_estimators=80)\n",
      "Training time: 10.0342s\n",
      "Test Accuracy: 99.17%\n",
      "Confusion matrix: 480, 4, 1, 115\n",
      "Miss-classification of legitimate emails: 0.86%\n",
      "% of Spam Detected: 99.79%\n",
      "Pass: False\n",
      "Seed no.: 530\n",
      "model = RandomForestClassifier(max_depth=50, n_estimators=80)\n",
      "Training time: 9.9904s\n",
      "Test Accuracy: 98.83%\n",
      "Confusion matrix: 482, 7, 0, 111\n",
      "Miss-classification of legitimate emails: 0.0%\n",
      "% of Spam Detected: 100.0%\n",
      "Pass: True\n",
      "Seed no.: 149\n",
      "model = RandomForestClassifier(max_depth=50, n_estimators=80)\n",
      "Training time: 9.6707s\n",
      "Test Accuracy: 98.67%\n",
      "Confusion matrix: 482, 8, 0, 110\n",
      "Miss-classification of legitimate emails: 0.0%\n",
      "% of Spam Detected: 100.0%\n",
      "Pass: True\n",
      "Seed no.: 330\n",
      "model = RandomForestClassifier(max_depth=50, n_estimators=80)\n",
      "Training time: 11.0784s\n",
      "Test Accuracy: 99.33%\n",
      "Confusion matrix: 479, 4, 0, 117\n",
      "Miss-classification of legitimate emails: 0.0%\n",
      "% of Spam Detected: 100.0%\n",
      "Pass: True\n",
      "Seed no.: 500\n",
      "model = RandomForestClassifier(max_depth=50, n_estimators=80)\n",
      "Training time: 11.0548s\n",
      "Test Accuracy: 99.33%\n",
      "Confusion matrix: 474, 4, 0, 122\n",
      "Miss-classification of legitimate emails: 0.0%\n",
      "% of Spam Detected: 100.0%\n",
      "Pass: True\n",
      "\n",
      "Average accuracy: 99.266, std: 0.36655695328284243\n",
      "Average false positive rate: 0.265, std: 0.40519748271676115\n",
      "This model passes the criterion: False\n"
     ]
    }
   ],
   "source": [
    "# Train models on 10 different data-splits to make sure that the result above is not just a 'lucky' seed\n",
    "mean_acc, std_acc, mean_missclass, std_missclass = multiple_experiments(rf_adjusted, X_mini, y_mini, 10)"
   ]
  },
  {
   "cell_type": "code",
   "execution_count": 17,
   "metadata": {},
   "outputs": [
    {
     "name": "stdout",
     "output_type": "stream",
     "text": [
      "Test Accuracy: 99.31%\n",
      "Confusion matrix: 1355, 35, 13, 5597\n",
      "Miss-classification of legitimate emails: 0.22999999999999998%\n",
      "Pass: False\n"
     ]
    }
   ],
   "source": [
    "# Test on the whole dataset\n",
    "\n",
    "y_test_predict = rf_adjusted.predict(X[3000:])\n",
    "tp, fp, fn, tn = met.confusion_matrix(y[3000:], y_test_predict).ravel()    \n",
    "test_acc = round((tp+tn)*100/len(y_test_predict),2)\n",
    "missclass = get_tp_rate(fn,tn)\n",
    "\n",
    "print(f\"Test Accuracy: {test_acc}%\")\n",
    "print(f\"Confusion matrix: {tp}, {fp}, {fn}, {tn}\")\n",
    "print(f\"Miss-classification of legitimate emails: {missclass}%\")\n",
    "print(f\"Pass: {missclass<=0.20}\")"
   ]
  },
  {
   "cell_type": "markdown",
   "metadata": {},
   "source": [
    "## Ploting P/R Curve"
   ]
  },
  {
   "cell_type": "code",
   "execution_count": 18,
   "metadata": {},
   "outputs": [
    {
     "data": {
      "image/png": "[encoded data removed]",
      "text/plain": [
       "<Figure size 432x288 with 1 Axes>"
      ]
     },
     "metadata": {
      "needs_background": "light"
     },
     "output_type": "display_data"
    }
   ],
   "source": [
    "#calculate precision and recall\n",
    "precision, recall, thresholds = precision_recall_curve(y[3000:], y_test_predict)\n",
    "\n",
    "#create precision recall curve\n",
    "fig, ax = plt.subplots()\n",
    "ax.plot(recall, precision)\n",
    "\n",
    "#add axis labels to plot\n",
    "ax.set_title('Precision-Recall Curve on Test Data')\n",
    "ax.set_ylabel('Precision')\n",
    "ax.set_xlabel('Recall')\n",
    "\n",
    "#display plot\n",
    "plt.show()"
   ]
  },
  {
   "cell_type": "markdown",
   "metadata": {},
   "source": [
    "# Summary\n",
    "\n",
    "In this project, we explored the binary classification problem, targeting low falase positive rate, high recall rate, and high accuracy. Three models were used to appraoch the problem: NB, DT and RF. While the default-set RF Classifier in `sklearn.RandomForestClassifier` successfully coped with the problem. On 10 different seeds, its average accuracy reaches 99.31%, with False Positive rate of 0.17% and recall rate of 99.18%. \n",
    "\n",
    "We further explored that changes of two hyperparameters separately: number of trees and maximum tree depth. Then, a new model was constructed accoradingly. However, it did not match the performance of the original RF model."
   ]
  }
 ],
 "metadata": {
  "kernelspec": {
   "display_name": "Python 3",
   "language": "python",
   "name": "python3"
  },
  "language_info": {
   "codemirror_mode": {
    "name": "ipython",
    "version": 3
   },
   "file_extension": ".py",
   "mimetype": "text/x-python",
   "name": "python",
   "nbconvert_exporter": "python",
   "pygments_lexer": "ipython3",
   "version": "3.8.3"
  }
 },
 "nbformat": 4,
 "nbformat_minor": 4
}
